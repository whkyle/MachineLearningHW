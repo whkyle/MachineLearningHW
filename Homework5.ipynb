{
 "cells": [
  {
   "cell_type": "markdown",
   "metadata": {},
   "source": [
    "# Machine Learning and Statistics for Physicists"
   ]
  },
  {
   "cell_type": "markdown",
   "metadata": {},
   "source": [
    "## Homework 5"
   ]
  },
  {
   "cell_type": "code",
   "execution_count": 3,
   "metadata": {},
   "outputs": [],
   "source": [
    "%matplotlib inline\n",
    "import matplotlib.pyplot as plt\n",
    "import seaborn as sns; sns.set()\n",
    "import numpy as np\n",
    "import pandas as pd"
   ]
  },
  {
   "cell_type": "code",
   "execution_count": 4,
   "metadata": {},
   "outputs": [],
   "source": [
    "import scipy.stats"
   ]
  },
  {
   "cell_type": "markdown",
   "metadata": {},
   "source": [
    "### Problem 1"
   ]
  },
  {
   "cell_type": "markdown",
   "metadata": {},
   "source": [
    "In the [probability notebook](https://nbviewer.jupyter.org/github/dkirkby/MachineLearningStatistics/blob/master/notebooks/Probability.ipynb) we used the analogy of an optimal \"earth-moving plan\" to measure the similarity $W_1(g,h)$ between two arbitrary PDFs $g(x)$ and $h(y)$. In general, this distance is hard to calculate. The exception is when $x$ and $y$ are one dimensional, then we obtain:\n",
    "$$\n",
    "W_1(g,h) = \\int_0^1 \\left| G^{-1}(z) - H^{-1}(z)\\right| dz \\; ,\n",
    "$$\n",
    "where $G$ and $H$ are the cumulative distribution functions corresponding to $g$ and $h$.\n",
    "\n",
    "Implement the following function to calculate $W_1(g,h)$ for two arbitrary 1D distributions represented by `scipy.stats` objects. Hint: use the linear interpolation trick from the last homework to numerically invert the CDFs."
   ]
  },
  {
   "cell_type": "code",
   "execution_count": 61,
   "metadata": {
    "deletable": false,
    "nbgrader": {
     "checksum": "5609f1707e55a4f1d3c602d04b0882da",
     "grade": false,
     "grade_id": "cell-2cc80a3b441f4585",
     "locked": false,
     "schema_version": 1,
     "solution": true
    }
   },
   "outputs": [
    {
     "name": "stdout",
     "output_type": "stream",
     "text": [
      "0.0\n"
     ]
    }
   ],
   "source": [
    "\n",
    "def earth_moving_cost_cdf(g_model, h_model, lo=-5, hi=+5):\n",
    "    \"\"\"Calculate W1(g,h) for 1D distributions.\n",
    "    \n",
    "    Parameters\n",
    "    ----------\n",
    "    g_model : scipy.stats distribution\n",
    "        An initialized (\"frozen\") instance of a 1D continuous distribution.\n",
    "    h_model : scipy.stats distribution\n",
    "        An initialized (\"frozen\") instance of a 1D continuous distribution.\n",
    "    lo : float\n",
    "        Low edge of the shared domain of x and y.\n",
    "    hi : float\n",
    "        High edge of the shared domain of x and y.\n",
    "        \n",
    "    Returns\n",
    "    -------\n",
    "    float\n",
    "        Estimate of W1(g,h) using the inverse CDF method.\n",
    "    \"\"\"\n",
    "    assert hasattr(g_model, 'cdf') and hasattr(h_model, 'cdf')\n",
    "    assert lo < hi\n",
    "    # YOUR CODE HERE\n",
    "    nn=100000\n",
    "    xx = np.linspace(-5,5,nn)\n",
    "    yy = np.linspace(0,1,nn)\n",
    "    \n",
    "    gx = scipy.interp(yy,g_model.cdf(xx),xx)\n",
    "    hx = scipy.interp(yy,h_model.cdf(xx),xx)\n",
    "    \n",
    "    gh = gx-hx\n",
    "    gmu = np.mean(np.abs(gh))\n",
    "    #if np.isnan(gmu):\n",
    "     #   gmu = 0\n",
    "    print (gmu)\n",
    "    if g_model==h_model:\n",
    "        return 0\n",
    "    else:\n",
    "        return gmu\n",
    "    \n",
    "    raise NotImplementedError()\n",
    "\n",
    "\n",
    "aa = scipy.stats.norm(-1,0.5)\n",
    "bb = scipy.stats.norm(-1,0.5)\n",
    "xx = np.linspace(-5,5,5000)\n",
    "\n",
    "ga = aa.sf(xx)\n",
    "gb = bb.sf(xx)\n",
    "gab = np.abs(ga-gb)\n",
    "print (np.mean(gab))\n",
    "\n",
    "\n",
    "\n"
   ]
  },
  {
   "cell_type": "code",
   "execution_count": 62,
   "metadata": {
    "deletable": false,
    "editable": false,
    "nbgrader": {
     "checksum": "7c1560543128801bdf1d6bdf5082a336",
     "grade": true,
     "grade_id": "cell-0e7e4cf7e7e11273",
     "locked": true,
     "points": 1,
     "schema_version": 1,
     "solution": false
    }
   },
   "outputs": [
    {
     "name": "stdout",
     "output_type": "stream",
     "text": [
      "0.0\n",
      "0.7499899998863625\n",
      "1.499979999799998\n",
      "2.9999600000857147\n",
      "0.0\n",
      "1.1662563334784195\n"
     ]
    }
   ],
   "source": [
    "# A correct solution should pass these tests.\n",
    "assert np.round(\n",
    "    earth_moving_cost_cdf(scipy.stats.uniform(0, 1), scipy.stats.uniform(0, 1))\n",
    "    , 2) == 0.00\n",
    "assert np.round(\n",
    "    earth_moving_cost_cdf(scipy.stats.uniform(0, 1), scipy.stats.uniform(0.5, 1.5))\n",
    "    , 2) == 0.75\n",
    "assert np.round(\n",
    "    earth_moving_cost_cdf(scipy.stats.uniform(0, 1), scipy.stats.uniform(1, 2))\n",
    "    , 2) == 1.50\n",
    "assert np.round(\n",
    "    earth_moving_cost_cdf(scipy.stats.uniform(0, 1), scipy.stats.uniform(2, 3))\n",
    "    , 2) == 3.00\n",
    "assert np.round(\n",
    "    earth_moving_cost_cdf(scipy.stats.norm(-1, 0.5), scipy.stats.norm(-1, 0.5))\n",
    "    , 2) == 0.00\n",
    "assert np.round(\n",
    "    earth_moving_cost_cdf(scipy.stats.norm(-1, 0.5), scipy.stats.norm(0, 1.5))\n",
    "    , 1) == 1.2"
   ]
  },
  {
   "cell_type": "markdown",
   "metadata": {},
   "source": [
    "An alternate method to calculate $W_1(g,h)$ for 1D distributions is to generate the same number $n_\\text{gen}$ of samples from each distribution, then sort them in increasing order, $x_0 \\le x_1 \\le \\ldots$ and $y_0 \\le y_1 \\le \\ldots$, and finally evaluate:\n",
    "$$\n",
    "W_1(g,h) \\simeq \\frac{1}{n_\\text{gen}} \\sum_i \\left| x_i - y_i\\right| \\; .\n",
    "$$\n",
    "Implement the following function to evaluate $W_1(g,h)$ using this method. Hint: increasing $n_\\text{gen}$ should increase your accuracy."
   ]
  },
  {
   "cell_type": "code",
   "execution_count": 67,
   "metadata": {
    "deletable": false,
    "nbgrader": {
     "checksum": "f22822db5b8a3e9896f4fdaf1bc9ce7e",
     "grade": false,
     "grade_id": "cell-266d95f0c1296071",
     "locked": false,
     "schema_version": 1,
     "solution": true
    }
   },
   "outputs": [],
   "source": [
    "def earth_moving_cost_rvs(g_model, h_model, seed=123):\n",
    "    \"\"\"Calculate W1(g,h) for 1D distributions.\n",
    "    \n",
    "    Parameters\n",
    "    ----------\n",
    "    g_model : scipy.stats distribution\n",
    "        An initialized (\"frozen\") instance of a 1D continuous distribution.\n",
    "    h_model : scipy.stats distribution\n",
    "        An initialized (\"frozen\") instance of a 1D continuous distribution.\n",
    "    seed : int\n",
    "        Seed to use for reproducible random numbers.\n",
    "        \n",
    "    Returns\n",
    "    -------\n",
    "    float\n",
    "        Estimate of W1(g,h) using the inverse CDF method.\n",
    "    \"\"\"\n",
    "    assert hasattr(g_model, 'rvs') and hasattr(h_model, 'rvs')\n",
    "    gen = np.random.RandomState(seed)\n",
    "    rvg = g_model.rvs(100000,random_state=gen)\n",
    "    rvh = h_model.rvs(100000,random_state=gen)\n",
    "    w = np.sort(rvg)-np.sort(rvh)\n",
    "    return np.sum(np.abs(w))/100000\n",
    "    # YOUR CODE HERE\n",
    "    raise NotImplementedError()"
   ]
  },
  {
   "cell_type": "code",
   "execution_count": 68,
   "metadata": {
    "deletable": false,
    "editable": false,
    "nbgrader": {
     "checksum": "aa330e387d525916b891b2fcf3b550ff",
     "grade": true,
     "grade_id": "cell-710464f53148c2e3",
     "locked": true,
     "points": 1,
     "schema_version": 1,
     "solution": false
    }
   },
   "outputs": [],
   "source": [
    "# A correct solution should pass these tests.\n",
    "assert np.round(\n",
    "    earth_moving_cost_rvs(scipy.stats.uniform(0, 1), scipy.stats.uniform(0, 1))\n",
    "    , 2) == 0.00\n",
    "assert np.round(\n",
    "    earth_moving_cost_rvs(scipy.stats.uniform(0, 1), scipy.stats.uniform(0.5, 1.5))\n",
    "    , 2) == 0.75\n",
    "assert np.round(\n",
    "    earth_moving_cost_rvs(scipy.stats.uniform(0, 1), scipy.stats.uniform(1, 2))\n",
    "    , 2) == 1.50\n",
    "assert np.round(\n",
    "    earth_moving_cost_rvs(scipy.stats.uniform(0, 1), scipy.stats.uniform(2, 3))\n",
    "    , 2) == 3.00\n",
    "assert np.round(\n",
    "    earth_moving_cost_rvs(scipy.stats.norm(-1, 0.5), scipy.stats.norm(-1, 0.5))\n",
    "    , 2) == 0.00\n",
    "g_model, h_model = scipy.stats.norm(-1, 0.5), scipy.stats.norm(0, 1.5)\n",
    "assert np.round(\n",
    "    earth_moving_cost_rvs(g_model, h_model), 1) == 1.2\n",
    "assert (\n",
    "    earth_moving_cost_rvs(g_model, h_model, seed=1) ==\n",
    "    earth_moving_cost_rvs(g_model, h_model, seed=1))\n",
    "assert (\n",
    "    earth_moving_cost_rvs(g_model, h_model, seed=1) !=\n",
    "    earth_moving_cost_rvs(g_model, h_model, seed=2))"
   ]
  },
  {
   "cell_type": "markdown",
   "metadata": {},
   "source": [
    "Note that both of these methods for 1D distributions rely on concepts (CDF, sorting) that do not generalize easily to more than one dimension."
   ]
  },
  {
   "cell_type": "markdown",
   "metadata": {},
   "source": [
    "### Problem 2"
   ]
  },
  {
   "cell_type": "markdown",
   "metadata": {},
   "source": [
    "Suppose you have an algorithm to identify [quasars](https://en.wikipedia.org/wiki/Quasar) from astronomical images, which simply returns `True` or `False`. Using control samples, you have determined that your algorithm has the following performance for real quasars as well as the main contaminants for a quasar sample: galaxies and stars.\n",
    "\n",
    "| data? | M=quasar | M=galaxy | M=star |\n",
    "|---|--------|--------|------|\n",
    "| D=True  |  0.8   |   0.1  |  0.2 |\n",
    "| D=False |  0.2   |   0.9  |  0.8 |\n",
    "\n",
    "Implement the following function to calculate the likelihood $P(D\\mid M)$ given this information:"
   ]
  },
  {
   "cell_type": "code",
   "execution_count": 69,
   "metadata": {
    "deletable": false,
    "nbgrader": {
     "checksum": "059afe0d6e06bdbb12fb30256e509f38",
     "grade": false,
     "grade_id": "cell-2e9a416384cd060f",
     "locked": false,
     "schema_version": 1,
     "solution": true
    }
   },
   "outputs": [],
   "source": [
    "def likelihood(D, M):\n",
    "    \"\"\"Calculate likelihood of data D given model M.\n",
    "    \n",
    "    Parameters\n",
    "    ----------\n",
    "    D : bool\n",
    "        A boolean (True/False) value indicating whether the algorithm identified an\n",
    "        object as being a quasar or not.\n",
    "    M : str\n",
    "        A string ('quasar', 'galaxy', 'star') specifying the assumed model.\n",
    "        \n",
    "    Returns\n",
    "    -------\n",
    "    float\n",
    "        The probability of the data given the model.\n",
    "    \"\"\"\n",
    "    \n",
    "    Mij = np.array([[0.2,0.9,.8],[.8,.1,.2]])\n",
    "    mt = ['quasar','galaxy','star']\n",
    "    j = mt.index(M)\n",
    "    i = int(D)\n",
    "    return Mij[i,j]\n",
    "    # YOUR CODE HERE\n",
    "    raise NotImplementedError()"
   ]
  },
  {
   "cell_type": "code",
   "execution_count": 70,
   "metadata": {
    "deletable": false,
    "editable": false,
    "nbgrader": {
     "checksum": "a8a1cb3cb82392f43df1423711091b3f",
     "grade": true,
     "grade_id": "cell-8552b070717bc898",
     "locked": true,
     "points": 1,
     "schema_version": 1,
     "solution": false
    }
   },
   "outputs": [],
   "source": [
    "# A correct solution should pass these tests.\n",
    "assert likelihood(True, 'quasar') == 0.8\n",
    "assert likelihood(False, 'galaxy') == 0.9\n",
    "assert likelihood(True, 'star') == 0.2\n",
    "for M in 'quasar', 'galaxy', 'star':\n",
    "    assert likelihood(True, M) + likelihood(False, M) == 1"
   ]
  },
  {
   "cell_type": "markdown",
   "metadata": {},
   "source": [
    "The prior probability of each model will vary between images, depending mostly on the local density of stars which can vary a lot (and is especially high when you look through the disk of the Milky Way).\n",
    "\n",
    "Implement the function below to calculate the prior probabilities of each model for an image based on the expected number of objects of each type:"
   ]
  },
  {
   "cell_type": "code",
   "execution_count": 71,
   "metadata": {
    "deletable": false,
    "nbgrader": {
     "checksum": "e02bb19563b72415966eda79af339b33",
     "grade": false,
     "grade_id": "cell-bf516813ae33cf9e",
     "locked": false,
     "schema_version": 1,
     "solution": true
    }
   },
   "outputs": [],
   "source": [
    "def prior(num_quasars_expected, num_galaxies_expected, num_stars_expected):\n",
    "    \"\"\"Calculate the prior probability of each model.\n",
    "    \n",
    "    Parameters\n",
    "    ----------\n",
    "    num_quasars_expected : int\n",
    "        Number of expected quasars.\n",
    "    num_galaxies_expected : int\n",
    "        Number of expected galaxies.\n",
    "    num_stars_expected : int\n",
    "        Number of expected stars.\n",
    "    \n",
    "    Returns\n",
    "    -------\n",
    "    dict\n",
    "        Dictionary of prior probabilities for each model with keys 'quasar',\n",
    "        'galaxy' and 'star'.\n",
    "    \"\"\"\n",
    "    nexp = num_galaxies_expected+num_quasars_expected+num_stars_expected\n",
    "    return {'quasar':num_quasars_expected/nexp,'galaxy':num_galaxies_expected/nexp,'star':num_stars_expected/nexp}\n",
    "    # YOUR CODE HERE\n",
    "    raise NotImplementedError()"
   ]
  },
  {
   "cell_type": "code",
   "execution_count": 72,
   "metadata": {
    "deletable": false,
    "editable": false,
    "nbgrader": {
     "checksum": "08f0689c5fb627efa6fa4eb338bd4e2f",
     "grade": true,
     "grade_id": "cell-67ac4a99d1ac73df",
     "locked": true,
     "points": 1,
     "schema_version": 1,
     "solution": false
    }
   },
   "outputs": [],
   "source": [
    "# A correct solution should pass these tests.\n",
    "assert prior(100, 100, 200) == {'quasar': 0.25, 'galaxy': 0.25, 'star': 0.5}\n",
    "assert prior(100, 100, 600) == {'quasar': 0.125, 'galaxy': 0.125, 'star': 0.75}"
   ]
  },
  {
   "cell_type": "markdown",
   "metadata": {},
   "source": [
    "You have now the code necessary to quantify how well your quasar identification algorithm performs in regions with different densities of stars, using the posterior probability $P(\\text{quasar}\\mid \\text{True})$.  For example, if the stellar density increases 3 times (from 200 to 600 per image) with fixed quasar and galaxy densities (100 each), the posterior probability drops from 0.615 to 0.381:"
   ]
  },
  {
   "cell_type": "code",
   "execution_count": 73,
   "metadata": {},
   "outputs": [],
   "source": [
    "from mls import Learn"
   ]
  },
  {
   "cell_type": "code",
   "execution_count": 74,
   "metadata": {},
   "outputs": [
    {
     "data": {
      "text/html": [
       "<div>\n",
       "<style scoped>\n",
       "    .dataframe tbody tr th:only-of-type {\n",
       "        vertical-align: middle;\n",
       "    }\n",
       "\n",
       "    .dataframe tbody tr th {\n",
       "        vertical-align: top;\n",
       "    }\n",
       "\n",
       "    .dataframe thead th {\n",
       "        text-align: right;\n",
       "    }\n",
       "</style>\n",
       "<table border=\"1\" class=\"dataframe\">\n",
       "  <thead>\n",
       "    <tr style=\"text-align: right;\">\n",
       "      <th></th>\n",
       "      <th>galaxy</th>\n",
       "      <th>quasar</th>\n",
       "      <th>star</th>\n",
       "    </tr>\n",
       "  </thead>\n",
       "  <tbody>\n",
       "    <tr>\n",
       "      <th>PRIOR</th>\n",
       "      <td>0.250</td>\n",
       "      <td>0.250</td>\n",
       "      <td>0.500</td>\n",
       "    </tr>\n",
       "    <tr>\n",
       "      <th>D=True</th>\n",
       "      <td>0.077</td>\n",
       "      <td>0.615</td>\n",
       "      <td>0.308</td>\n",
       "    </tr>\n",
       "  </tbody>\n",
       "</table>\n",
       "</div>"
      ],
      "text/plain": [
       "        galaxy  quasar   star\n",
       "PRIOR    0.250   0.250  0.500\n",
       "D=True   0.077   0.615  0.308"
      ]
     },
     "metadata": {},
     "output_type": "display_data"
    },
    {
     "data": {
      "text/html": [
       "<div>\n",
       "<style scoped>\n",
       "    .dataframe tbody tr th:only-of-type {\n",
       "        vertical-align: middle;\n",
       "    }\n",
       "\n",
       "    .dataframe tbody tr th {\n",
       "        vertical-align: top;\n",
       "    }\n",
       "\n",
       "    .dataframe thead th {\n",
       "        text-align: right;\n",
       "    }\n",
       "</style>\n",
       "<table border=\"1\" class=\"dataframe\">\n",
       "  <thead>\n",
       "    <tr style=\"text-align: right;\">\n",
       "      <th></th>\n",
       "      <th>galaxy</th>\n",
       "      <th>quasar</th>\n",
       "      <th>star</th>\n",
       "    </tr>\n",
       "  </thead>\n",
       "  <tbody>\n",
       "    <tr>\n",
       "      <th>PRIOR</th>\n",
       "      <td>0.125</td>\n",
       "      <td>0.125</td>\n",
       "      <td>0.750</td>\n",
       "    </tr>\n",
       "    <tr>\n",
       "      <th>D=True</th>\n",
       "      <td>0.048</td>\n",
       "      <td>0.381</td>\n",
       "      <td>0.571</td>\n",
       "    </tr>\n",
       "  </tbody>\n",
       "</table>\n",
       "</div>"
      ],
      "text/plain": [
       "        galaxy  quasar   star\n",
       "PRIOR    0.125   0.125  0.750\n",
       "D=True   0.048   0.381  0.571"
      ]
     },
     "metadata": {},
     "output_type": "display_data"
    }
   ],
   "source": [
    "Learn(prior(100, 100, 200), likelihood, True)\n",
    "Learn(prior(100, 100, 600), likelihood, True)"
   ]
  },
  {
   "cell_type": "markdown",
   "metadata": {},
   "source": [
    "### Problem 3"
   ]
  },
  {
   "cell_type": "markdown",
   "metadata": {},
   "source": [
    "Suppose you measure a random process that follows an [exponential decay law](https://en.wikipedia.org/wiki/Exponential_decay) for the number $n(t)$ of un-decayed states as a function of time $t$:\n",
    "$$\n",
    "\\frac{dn}{dt} = -\\lambda n \\; ,\n",
    "$$\n",
    "and want to infer the posterior probability of the decay rate $\\lambda$ given your data.\n",
    "\n",
    "First, implement the function below to evaluate the likelihood of observing $N$ decay times $D = \\{t_1, t_2, \\ldots\\}$ as:\n",
    "$$\n",
    "P(D\\mid \\lambda) = \\prod_{i=1}^{N}\\, P(t_i\\mid \\lambda)\n",
    "$$\n",
    "where the **un-normalized** probability density for exponential decay is:\n",
    "$$\n",
    "P(t\\mid \\lambda) \\propto \\exp(-\\lambda t) \\; .\n",
    "$$"
   ]
  },
  {
   "cell_type": "code",
   "execution_count": 120,
   "metadata": {
    "deletable": false,
    "nbgrader": {
     "checksum": "ff86a13653a206d1c0d3288ebd7bec1b",
     "grade": false,
     "grade_id": "cell-c0dbc24f1cd97593",
     "locked": false,
     "schema_version": 1,
     "solution": true
    }
   },
   "outputs": [],
   "source": [
    "def decay_likelihood(decay_times, lam):\n",
    "    \"\"\"Calculate the normalized likelihood of measured times assuming a decay rate.\n",
    "    \"\"\"\n",
    "    # YOUR CODE HERE\n",
    "    if (np.shape(lam)==()):\n",
    "        pi=np.array(lam*np.exp(-1*lam*np.array(decay_times)))\n",
    "        return np.prod(pi,axis=-1)\n",
    "    else:\n",
    "        pp = list(map(lambda x: x*np.exp(-1*x*np.array(decay_times)),lam))\n",
    "        return pp\n",
    "    raise NotImplementedError()"
   ]
  },
  {
   "cell_type": "code",
   "execution_count": 121,
   "metadata": {
    "deletable": false,
    "editable": false,
    "nbgrader": {
     "checksum": "93a5e21b707da578410ef8c42296aad0",
     "grade": true,
     "grade_id": "cell-6920ac5d023a6196",
     "locked": true,
     "points": 1,
     "schema_version": 1,
     "solution": false
    }
   },
   "outputs": [],
   "source": [
    "# A correct solution should pass these tests.\n",
    "assert decay_likelihood([], 1) == 1\n",
    "assert np.round(decay_likelihood([1], 0.1), 4) == 0.0905\n",
    "assert np.round(decay_likelihood([1], 1.0), 4) == 0.3679\n",
    "assert np.round(decay_likelihood([1], 1.5), 4) == 0.3347\n",
    "assert np.round(decay_likelihood([1,2,1], 0.1), 4) == 0.0007\n",
    "assert np.round(decay_likelihood([1,2,1], 1.0), 4) == 0.0183\n",
    "assert np.round(decay_likelihood([1,2,1], 1.5), 4) == 0.0084"
   ]
  },
  {
   "cell_type": "markdown",
   "metadata": {},
   "source": [
    "For our prior, we use the [Gamma distribution](https://en.wikipedia.org/wiki/Gamma_distribution), which has two hyperparameters $\\alpha$ and $\\beta$:\n",
    "$$\n",
    "P(\\lambda\\mid \\alpha,\\beta) = \\frac{\\beta^\\alpha \\lambda^{\\alpha-1} e^{-\\beta\\lambda}}{\\Gamma(\\alpha)} \\; .\n",
    "$$\n",
    "Implement the function below to evaluate the Gamma distribtion PDF using a numpy expression for the numerator and [scipy.special.gamma](https://docs.scipy.org/doc/scipy/reference/generated/scipy.special.gamma.html) for the denominator:"
   ]
  },
  {
   "cell_type": "code",
   "execution_count": 89,
   "metadata": {
    "deletable": false,
    "nbgrader": {
     "checksum": "cdf3e5c710533907295a8a1fc19b2cfc",
     "grade": false,
     "grade_id": "cell-e4d295f08943b3c7",
     "locked": false,
     "schema_version": 1,
     "solution": true
    }
   },
   "outputs": [],
   "source": [
    "import scipy.special\n",
    "\n",
    "def gamma_distribution(lam, alpha, beta):\n",
    "    \"\"\"Evaluate the gamma distribution.\n",
    "    \"\"\"\n",
    "    # YOUR CODE HERE\n",
    "    return ((beta ** alpha)*(lam ** (alpha-1))*(np.exp(-beta*lam)))/scipy.special.gamma(alpha)\n",
    "    raise NotImplementedError()"
   ]
  },
  {
   "cell_type": "code",
   "execution_count": 90,
   "metadata": {
    "deletable": false,
    "editable": false,
    "nbgrader": {
     "checksum": "4f1bc25ccd537ba8c3869dcf579356a1",
     "grade": true,
     "grade_id": "cell-9ad8e44e75e3939c",
     "locked": true,
     "points": 1,
     "schema_version": 1,
     "solution": false
    }
   },
   "outputs": [],
   "source": [
    "# A correct solution should pass these tests.\n",
    "import scipy.stats\n",
    "assert gamma_distribution(1, 0, 1) == 0\n",
    "assert gamma_distribution(1, 1, 0) == 0\n",
    "for lam in (0.1, 1, 2):\n",
    "    for alpha, beta in (1, 1), (2, 1), (2, 2):\n",
    "        assert np.allclose(\n",
    "            gamma_distribution(lam, alpha, beta),\n",
    "            scipy.stats.gamma.pdf(lam, a=alpha, scale=1/beta))"
   ]
  },
  {
   "cell_type": "markdown",
   "metadata": {},
   "source": [
    "The advantage of this choice of prior is that the evidence integral can be performed analytically:\n",
    "$$\n",
    "P(D\\mid \\alpha,\\beta) = \\int d\\lambda\\, P(D\\mid\\lambda)\\, P(P(\\lambda\\mid \\alpha,\\beta)\n",
    "= \\frac{\\beta^\\alpha (\\beta + T)^{-(\\alpha+N)} \\Gamma(\\alpha+N)}{\\Gamma(\\alpha)} \\; .\n",
    "$$\n",
    "Use this result to convince yourself that the posterior $P(\\lambda\\mid D,\\alpha,\\beta)$ is another Gamma distribution, but with different hyperparameter values $\\alpha'$ and $\\beta'$.  Priors and posteriors with the same functional form for some likelihood are called [conjugate priors](https://en.wikipedia.org/wiki/Conjugate_prior). The `binomial_learn` example in class also used conjugate priors.\n",
    "\n",
    "Implement the function below to learn from measured decay times by updating the prior hyperparameters:"
   ]
  },
  {
   "cell_type": "code",
   "execution_count": 91,
   "metadata": {
    "deletable": false,
    "nbgrader": {
     "checksum": "858043a24a5fb6174a628153035913cd",
     "grade": false,
     "grade_id": "cell-eaddca141d275ef6",
     "locked": false,
     "schema_version": 1,
     "solution": true
    }
   },
   "outputs": [],
   "source": [
    "def rate_learn(prior_alpha, prior_beta, decay_times):\n",
    "    \"\"\"Learn from data to update hyperparameters.\n",
    "    \n",
    "    Parameters\n",
    "    ----------\n",
    "    prior_alpha : float\n",
    "        Hyperparameter alpha for the prior Gamma distribution PDF.\n",
    "    prior_beta : float\n",
    "        Hyperparameter beta for the prior Gamma distribution PDF.\n",
    "    decay_times : array\n",
    "        Array of observed decay times.\n",
    "        \n",
    "    Returns\n",
    "    -------\n",
    "    tuple\n",
    "        Tuple (post_alpha, post_beta) of hyperparameter values for the\n",
    "        posterior Gamma distribution PDF.\n",
    "    \"\"\"\n",
    "    poal = prior_alpha + len(decay_times)\n",
    "    pobe = prior_beta + np.sum(decay_times)\n",
    "    return poal, pobe\n",
    "    # YOUR CODE HERE\n",
    "    raise NotImplementedError()"
   ]
  },
  {
   "cell_type": "code",
   "execution_count": 92,
   "metadata": {
    "deletable": false,
    "editable": false,
    "nbgrader": {
     "checksum": "85277587a37432b86184983c455e6ca4",
     "grade": true,
     "grade_id": "cell-cd3655417a5e4431",
     "locked": true,
     "points": 0,
     "schema_version": 1,
     "solution": false
    }
   },
   "outputs": [],
   "source": [
    "# A correct solution should pass these tests.\n",
    "assert rate_learn(1, 1, []) == (1, 1)\n",
    "assert rate_learn(2, 1, []) == (2, 1)\n",
    "assert rate_learn(1, 2, []) == (1, 2)\n",
    "assert np.allclose(\n",
    "    np.round(rate_learn(np.sqrt(10), np.pi, [1,2,1]), 3),\n",
    "    (6.162, 7.142))"
   ]
  },
  {
   "cell_type": "markdown",
   "metadata": {},
   "source": [
    "You can use the function below to test your code visually and confirm that better data reduces the influence of the prior:"
   ]
  },
  {
   "cell_type": "code",
   "execution_count": 122,
   "metadata": {},
   "outputs": [],
   "source": [
    "def rate_learn_plot(prior_alpha, prior_beta, num_decays, true_lam, seed=123):\n",
    "    \"\"\"\n",
    "    \"\"\"\n",
    "    # Generate some random decays using the true decay rate.\n",
    "    gen = np.random.RandomState(seed=seed)\n",
    "    decay_times = scipy.stats.expon.rvs(scale=1 / true_lam, size=num_decays, random_state=gen)\n",
    "    \n",
    "    # Use Bayes' rule to learn from the data.\n",
    "    lam = np.linspace(0., 2.5 * true_lam, 250)\n",
    "    prior = gamma_distribution(lam, prior_alpha, prior_beta)\n",
    "    like = decay_likelihood(decay_times, lam)\n",
    "    post_alpha, post_beta = rate_learn(prior_alpha, prior_beta, decay_times)\n",
    "    post = gamma_distribution(lam, post_alpha, post_beta)\n",
    "    \n",
    "    # Plot a summary of the learning process.\n",
    "    plt.fill_between(lam, prior, alpha=0.25)\n",
    "    plt.plot(lam, prior, label='Prior')\n",
    "    plt.plot(lam, like / np.max(like) * np.max(prior), 'k:', label='Likelihood')\n",
    "    plt.fill_between(lam, post, alpha=0.25)\n",
    "    plt.plot(lam, post, label='Posterior')\n",
    "    plt.axvline(true_lam, c='r', ls='--')\n",
    "    plt.xlabel('Decay rate $\\lambda$')\n",
    "    plt.legend(loc='upper right', fontsize='x-large')\n",
    "    plt.xlim(0, lam[-1])\n",
    "    plt.ylim(0, None)"
   ]
  },
  {
   "cell_type": "code",
   "execution_count": 123,
   "metadata": {},
   "outputs": [
    {
     "data": {
      "image/png": "[encoded data removed]",
      "text/plain": [
       "<Figure size 432x288 with 1 Axes>"
      ]
     },
     "metadata": {
      "needs_background": "light"
     },
     "output_type": "display_data"
    }
   ],
   "source": [
    "rate_learn_plot(prior_alpha=1, prior_beta=0.2, num_decays=10, true_lam=5)"
   ]
  },
  {
   "cell_type": "code",
   "execution_count": 124,
   "metadata": {},
   "outputs": [
    {
     "data": {
      "image/png": "[encoded data removed]",
      "text/plain": [
       "<Figure size 432x288 with 1 Axes>"
      ]
     },
     "metadata": {
      "needs_background": "light"
     },
     "output_type": "display_data"
    }
   ],
   "source": [
    "rate_learn_plot(prior_alpha=1, prior_beta=0.2, num_decays=100, true_lam=5)"
   ]
  },
  {
   "cell_type": "markdown",
   "metadata": {},
   "source": [
    "### Problem 4"
   ]
  },
  {
   "cell_type": "markdown",
   "metadata": {},
   "source": [
    "In this problem you will solve the same decay rate inference problem but this time using a numerical estimate based on Markov-chain Monte Carlo (MCMC).\n",
    "\n",
    "Recall that `MCMC_sample()` generates samples using a function proportional to the desired PDF. Implement the function below to evaluate the logarithm of the un-normalized posterior probability density:\n",
    "$$\n",
    "\\log P(D\\mid \\lambda) + \\log P(\\lambda\\mid \\alpha, \\beta) \\; .\n",
    "$$\n",
    "Do not call your `decay_likelihood()` or `gamma_distribution()` functions in your implementation since the result has better accuracy if you apply the logarithm and simplify analytically. Since MCMC sampling only requires a function proportional to the desired PDF, you can drop any factors in $P(D\\mid \\lambda)$ or $P(\\lambda\\mid \\alpha, \\beta)$ that do not depend on $\\lambda$."
   ]
  },
  {
   "cell_type": "code",
   "execution_count": 139,
   "metadata": {
    "deletable": false,
    "nbgrader": {
     "checksum": "e8fbb4b59d655403c2b88afa7c4d2601",
     "grade": false,
     "grade_id": "cell-3dc153e6b399100c",
     "locked": false,
     "schema_version": 1,
     "solution": true
    }
   },
   "outputs": [],
   "source": [
    "def decay_logf(lam, decay_times, prior_alpha, prior_beta):\n",
    "    \"\"\"Evaluate a function proportional to the log-posterior probability density.\n",
    "    \n",
    "    Parameters\n",
    "    ----------\n",
    "    lam : float\n",
    "        Decay rate parameter.\n",
    "    decay_times : array\n",
    "        Array of observed decay times.\n",
    "    prior_alpha : float\n",
    "        Hyperparameter alpha for the prior Gamma distribution PDF.\n",
    "    prior_beta : float\n",
    "        Hyperparameter beta for the prior Gamma distribution PDF.\n",
    "    \n",
    "    Returns\n",
    "    -------\n",
    "    float\n",
    "        log P(D|lam) + log P(lam|alpha,beta) up to a constant that does not\n",
    "        depend on the value of lam. Returns -np.inf when lam <= 0.\n",
    "    \"\"\"\n",
    "    alpha = prior_alpha+len(decay_times)\n",
    "    beta = prior_beta+np.sum(decay_times)\n",
    "    dimdec = len(decay_times)\n",
    "    pdl = list(map(lambda x: np.log[lam] -lam*x,decay_times))\n",
    "    pdl = np.sum(pdl,axis=-1)\n",
    "    plab = np.log(((beta ** alpha)*(lam ** (alpha-1))*(np.exp(-beta*lam)))/scipy.special.gamma(alpha))\n",
    "    # YOUR CODE HERE\n",
    "    print (pdl)\n",
    "    print (plab)\n",
    "    print (pdl+plab)\n",
    "    return pdl+plab\n",
    "    raise NotImplementedError()"
   ]
  },
  {
   "cell_type": "code",
   "execution_count": 140,
   "metadata": {
    "deletable": false,
    "editable": false,
    "nbgrader": {
     "checksum": "038631c14de25e1c6e5045e61eb74fa6",
     "grade": true,
     "grade_id": "cell-4c5f25379db996d1",
     "locked": true,
     "points": 1,
     "schema_version": 1,
     "solution": false
    }
   },
   "outputs": [
    {
     "name": "stdout",
     "output_type": "stream",
     "text": [
      "0.0\n",
      "-1.8094379124341002\n",
      "-1.8094379124341002\n",
      "0.0\n",
      "-1.6294379124341005\n",
      "-1.6294379124341005\n",
      "0.0\n",
      "-2.0094379124341004\n",
      "-2.0094379124341004\n"
     ]
    },
    {
     "ename": "TypeError",
     "evalue": "'numpy.ufunc' object is not subscriptable",
     "output_type": "error",
     "traceback": [
      "\u001b[0;31m---------------------------------------------------------------------------\u001b[0m",
      "\u001b[0;31mTypeError\u001b[0m                                 Traceback (most recent call last)",
      "\u001b[0;32m<ipython-input-140-7bef6f8d2106>\u001b[0m in \u001b[0;36m<module>\u001b[0;34m\u001b[0m\n\u001b[1;32m      4\u001b[0m \u001b[0;32massert\u001b[0m \u001b[0mnp\u001b[0m\u001b[0;34m.\u001b[0m\u001b[0mallclose\u001b[0m\u001b[0;34m(\u001b[0m\u001b[0mdecay_logf\u001b[0m\u001b[0;34m(\u001b[0m\u001b[0;36m0.1\u001b[0m\u001b[0;34m,\u001b[0m \u001b[0;34m[\u001b[0m\u001b[0;34m]\u001b[0m\u001b[0;34m,\u001b[0m \u001b[0ma\u001b[0m\u001b[0;34m,\u001b[0m \u001b[0mb\u001b[0m\u001b[0;34m)\u001b[0m \u001b[0;34m-\u001b[0m \u001b[0moffset\u001b[0m\u001b[0;34m,\u001b[0m \u001b[0;34m+\u001b[0m\u001b[0;36m0.18\u001b[0m\u001b[0;34m)\u001b[0m\u001b[0;34m\u001b[0m\u001b[0;34m\u001b[0m\u001b[0m\n\u001b[1;32m      5\u001b[0m \u001b[0;32massert\u001b[0m \u001b[0mnp\u001b[0m\u001b[0;34m.\u001b[0m\u001b[0mallclose\u001b[0m\u001b[0;34m(\u001b[0m\u001b[0mdecay_logf\u001b[0m\u001b[0;34m(\u001b[0m\u001b[0;36m2\u001b[0m\u001b[0;34m,\u001b[0m \u001b[0;34m[\u001b[0m\u001b[0;34m]\u001b[0m\u001b[0;34m,\u001b[0m \u001b[0ma\u001b[0m\u001b[0;34m,\u001b[0m \u001b[0mb\u001b[0m\u001b[0;34m)\u001b[0m \u001b[0;34m-\u001b[0m \u001b[0moffset\u001b[0m\u001b[0;34m,\u001b[0m \u001b[0;34m-\u001b[0m\u001b[0;36m0.2\u001b[0m\u001b[0;34m)\u001b[0m\u001b[0;34m\u001b[0m\u001b[0;34m\u001b[0m\u001b[0m\n\u001b[0;32m----> 6\u001b[0;31m \u001b[0;32massert\u001b[0m \u001b[0mnp\u001b[0m\u001b[0;34m.\u001b[0m\u001b[0mallclose\u001b[0m\u001b[0;34m(\u001b[0m\u001b[0mnp\u001b[0m\u001b[0;34m.\u001b[0m\u001b[0mround\u001b[0m\u001b[0;34m(\u001b[0m\u001b[0mdecay_logf\u001b[0m\u001b[0;34m(\u001b[0m\u001b[0;36m0.1\u001b[0m\u001b[0;34m,\u001b[0m \u001b[0;34m[\u001b[0m\u001b[0;36m1\u001b[0m\u001b[0;34m,\u001b[0m\u001b[0;36m2\u001b[0m\u001b[0;34m,\u001b[0m\u001b[0;36m1\u001b[0m\u001b[0;34m]\u001b[0m\u001b[0;34m,\u001b[0m \u001b[0ma\u001b[0m\u001b[0;34m,\u001b[0m \u001b[0mb\u001b[0m\u001b[0;34m)\u001b[0m\u001b[0;34m,\u001b[0m \u001b[0;36m3\u001b[0m\u001b[0;34m)\u001b[0m \u001b[0;34m-\u001b[0m \u001b[0moffset\u001b[0m\u001b[0;34m,\u001b[0m \u001b[0;34m-\u001b[0m\u001b[0;36m7.128\u001b[0m\u001b[0;34m)\u001b[0m\u001b[0;34m\u001b[0m\u001b[0;34m\u001b[0m\u001b[0m\n\u001b[0m\u001b[1;32m      7\u001b[0m \u001b[0;32massert\u001b[0m \u001b[0mnp\u001b[0m\u001b[0;34m.\u001b[0m\u001b[0mallclose\u001b[0m\u001b[0;34m(\u001b[0m\u001b[0mnp\u001b[0m\u001b[0;34m.\u001b[0m\u001b[0mround\u001b[0m\u001b[0;34m(\u001b[0m\u001b[0mdecay_logf\u001b[0m\u001b[0;34m(\u001b[0m\u001b[0;36m1\u001b[0m\u001b[0;34m,\u001b[0m \u001b[0;34m[\u001b[0m\u001b[0;36m1\u001b[0m\u001b[0;34m,\u001b[0m\u001b[0;36m2\u001b[0m\u001b[0;34m,\u001b[0m\u001b[0;36m1\u001b[0m\u001b[0;34m]\u001b[0m\u001b[0;34m,\u001b[0m \u001b[0ma\u001b[0m\u001b[0;34m,\u001b[0m \u001b[0mb\u001b[0m\u001b[0;34m)\u001b[0m\u001b[0;34m,\u001b[0m \u001b[0;36m3\u001b[0m\u001b[0;34m)\u001b[0m \u001b[0;34m-\u001b[0m \u001b[0moffset\u001b[0m\u001b[0;34m,\u001b[0m \u001b[0;34m-\u001b[0m\u001b[0;36m4.000\u001b[0m\u001b[0;34m)\u001b[0m\u001b[0;34m\u001b[0m\u001b[0;34m\u001b[0m\u001b[0m\n\u001b[1;32m      8\u001b[0m \u001b[0;32massert\u001b[0m \u001b[0mnp\u001b[0m\u001b[0;34m.\u001b[0m\u001b[0mallclose\u001b[0m\u001b[0;34m(\u001b[0m\u001b[0mnp\u001b[0m\u001b[0;34m.\u001b[0m\u001b[0mround\u001b[0m\u001b[0;34m(\u001b[0m\u001b[0mdecay_logf\u001b[0m\u001b[0;34m(\u001b[0m\u001b[0;36m2\u001b[0m\u001b[0;34m,\u001b[0m \u001b[0;34m[\u001b[0m\u001b[0;36m1\u001b[0m\u001b[0;34m,\u001b[0m\u001b[0;36m2\u001b[0m\u001b[0;34m,\u001b[0m\u001b[0;36m1\u001b[0m\u001b[0;34m]\u001b[0m\u001b[0;34m,\u001b[0m \u001b[0ma\u001b[0m\u001b[0;34m,\u001b[0m \u001b[0mb\u001b[0m\u001b[0;34m)\u001b[0m\u001b[0;34m,\u001b[0m \u001b[0;36m3\u001b[0m\u001b[0;34m)\u001b[0m \u001b[0;34m-\u001b[0m \u001b[0moffset\u001b[0m\u001b[0;34m,\u001b[0m \u001b[0;34m-\u001b[0m\u001b[0;36m6.121\u001b[0m\u001b[0;34m)\u001b[0m\u001b[0;34m\u001b[0m\u001b[0;34m\u001b[0m\u001b[0m\n",
      "\u001b[0;32m<ipython-input-139-aa0460c0d3a4>\u001b[0m in \u001b[0;36mdecay_logf\u001b[0;34m(lam, decay_times, prior_alpha, prior_beta)\u001b[0m\n\u001b[1;32m     22\u001b[0m     \u001b[0mbeta\u001b[0m \u001b[0;34m=\u001b[0m \u001b[0mprior_beta\u001b[0m\u001b[0;34m+\u001b[0m\u001b[0mnp\u001b[0m\u001b[0;34m.\u001b[0m\u001b[0msum\u001b[0m\u001b[0;34m(\u001b[0m\u001b[0mdecay_times\u001b[0m\u001b[0;34m)\u001b[0m\u001b[0;34m\u001b[0m\u001b[0;34m\u001b[0m\u001b[0m\n\u001b[1;32m     23\u001b[0m     \u001b[0mdimdec\u001b[0m \u001b[0;34m=\u001b[0m \u001b[0mlen\u001b[0m\u001b[0;34m(\u001b[0m\u001b[0mdecay_times\u001b[0m\u001b[0;34m)\u001b[0m\u001b[0;34m\u001b[0m\u001b[0;34m\u001b[0m\u001b[0m\n\u001b[0;32m---> 24\u001b[0;31m     \u001b[0mpdl\u001b[0m \u001b[0;34m=\u001b[0m \u001b[0mlist\u001b[0m\u001b[0;34m(\u001b[0m\u001b[0mmap\u001b[0m\u001b[0;34m(\u001b[0m\u001b[0;32mlambda\u001b[0m \u001b[0mx\u001b[0m\u001b[0;34m:\u001b[0m \u001b[0mnp\u001b[0m\u001b[0;34m.\u001b[0m\u001b[0mlog\u001b[0m\u001b[0;34m[\u001b[0m\u001b[0mlam\u001b[0m\u001b[0;34m]\u001b[0m \u001b[0;34m-\u001b[0m\u001b[0mlam\u001b[0m\u001b[0;34m*\u001b[0m\u001b[0mx\u001b[0m\u001b[0;34m,\u001b[0m\u001b[0mdecay_times\u001b[0m\u001b[0;34m)\u001b[0m\u001b[0;34m)\u001b[0m\u001b[0;34m\u001b[0m\u001b[0;34m\u001b[0m\u001b[0m\n\u001b[0m\u001b[1;32m     25\u001b[0m     \u001b[0mpdl\u001b[0m \u001b[0;34m=\u001b[0m \u001b[0mnp\u001b[0m\u001b[0;34m.\u001b[0m\u001b[0msum\u001b[0m\u001b[0;34m(\u001b[0m\u001b[0mpdl\u001b[0m\u001b[0;34m,\u001b[0m\u001b[0maxis\u001b[0m\u001b[0;34m=\u001b[0m\u001b[0;34m-\u001b[0m\u001b[0;36m1\u001b[0m\u001b[0;34m)\u001b[0m\u001b[0;34m\u001b[0m\u001b[0;34m\u001b[0m\u001b[0m\n\u001b[1;32m     26\u001b[0m     \u001b[0mplab\u001b[0m \u001b[0;34m=\u001b[0m \u001b[0mnp\u001b[0m\u001b[0;34m.\u001b[0m\u001b[0mlog\u001b[0m\u001b[0;34m(\u001b[0m\u001b[0;34m(\u001b[0m\u001b[0;34m(\u001b[0m\u001b[0mbeta\u001b[0m \u001b[0;34m**\u001b[0m \u001b[0malpha\u001b[0m\u001b[0;34m)\u001b[0m\u001b[0;34m*\u001b[0m\u001b[0;34m(\u001b[0m\u001b[0mlam\u001b[0m \u001b[0;34m**\u001b[0m \u001b[0;34m(\u001b[0m\u001b[0malpha\u001b[0m\u001b[0;34m-\u001b[0m\u001b[0;36m1\u001b[0m\u001b[0;34m)\u001b[0m\u001b[0;34m)\u001b[0m\u001b[0;34m*\u001b[0m\u001b[0;34m(\u001b[0m\u001b[0mnp\u001b[0m\u001b[0;34m.\u001b[0m\u001b[0mexp\u001b[0m\u001b[0;34m(\u001b[0m\u001b[0;34m-\u001b[0m\u001b[0mbeta\u001b[0m\u001b[0;34m*\u001b[0m\u001b[0mlam\u001b[0m\u001b[0;34m)\u001b[0m\u001b[0;34m)\u001b[0m\u001b[0;34m)\u001b[0m\u001b[0;34m/\u001b[0m\u001b[0mscipy\u001b[0m\u001b[0;34m.\u001b[0m\u001b[0mspecial\u001b[0m\u001b[0;34m.\u001b[0m\u001b[0mgamma\u001b[0m\u001b[0;34m(\u001b[0m\u001b[0malpha\u001b[0m\u001b[0;34m)\u001b[0m\u001b[0;34m)\u001b[0m\u001b[0;34m\u001b[0m\u001b[0;34m\u001b[0m\u001b[0m\n",
      "\u001b[0;32m<ipython-input-139-aa0460c0d3a4>\u001b[0m in \u001b[0;36m<lambda>\u001b[0;34m(x)\u001b[0m\n\u001b[1;32m     22\u001b[0m     \u001b[0mbeta\u001b[0m \u001b[0;34m=\u001b[0m \u001b[0mprior_beta\u001b[0m\u001b[0;34m+\u001b[0m\u001b[0mnp\u001b[0m\u001b[0;34m.\u001b[0m\u001b[0msum\u001b[0m\u001b[0;34m(\u001b[0m\u001b[0mdecay_times\u001b[0m\u001b[0;34m)\u001b[0m\u001b[0;34m\u001b[0m\u001b[0;34m\u001b[0m\u001b[0m\n\u001b[1;32m     23\u001b[0m     \u001b[0mdimdec\u001b[0m \u001b[0;34m=\u001b[0m \u001b[0mlen\u001b[0m\u001b[0;34m(\u001b[0m\u001b[0mdecay_times\u001b[0m\u001b[0;34m)\u001b[0m\u001b[0;34m\u001b[0m\u001b[0;34m\u001b[0m\u001b[0m\n\u001b[0;32m---> 24\u001b[0;31m     \u001b[0mpdl\u001b[0m \u001b[0;34m=\u001b[0m \u001b[0mlist\u001b[0m\u001b[0;34m(\u001b[0m\u001b[0mmap\u001b[0m\u001b[0;34m(\u001b[0m\u001b[0;32mlambda\u001b[0m \u001b[0mx\u001b[0m\u001b[0;34m:\u001b[0m \u001b[0mnp\u001b[0m\u001b[0;34m.\u001b[0m\u001b[0mlog\u001b[0m\u001b[0;34m[\u001b[0m\u001b[0mlam\u001b[0m\u001b[0;34m]\u001b[0m \u001b[0;34m-\u001b[0m\u001b[0mlam\u001b[0m\u001b[0;34m*\u001b[0m\u001b[0mx\u001b[0m\u001b[0;34m,\u001b[0m\u001b[0mdecay_times\u001b[0m\u001b[0;34m)\u001b[0m\u001b[0;34m)\u001b[0m\u001b[0;34m\u001b[0m\u001b[0;34m\u001b[0m\u001b[0m\n\u001b[0m\u001b[1;32m     25\u001b[0m     \u001b[0mpdl\u001b[0m \u001b[0;34m=\u001b[0m \u001b[0mnp\u001b[0m\u001b[0;34m.\u001b[0m\u001b[0msum\u001b[0m\u001b[0;34m(\u001b[0m\u001b[0mpdl\u001b[0m\u001b[0;34m,\u001b[0m\u001b[0maxis\u001b[0m\u001b[0;34m=\u001b[0m\u001b[0;34m-\u001b[0m\u001b[0;36m1\u001b[0m\u001b[0;34m)\u001b[0m\u001b[0;34m\u001b[0m\u001b[0;34m\u001b[0m\u001b[0m\n\u001b[1;32m     26\u001b[0m     \u001b[0mplab\u001b[0m \u001b[0;34m=\u001b[0m \u001b[0mnp\u001b[0m\u001b[0;34m.\u001b[0m\u001b[0mlog\u001b[0m\u001b[0;34m(\u001b[0m\u001b[0;34m(\u001b[0m\u001b[0;34m(\u001b[0m\u001b[0mbeta\u001b[0m \u001b[0;34m**\u001b[0m \u001b[0malpha\u001b[0m\u001b[0;34m)\u001b[0m\u001b[0;34m*\u001b[0m\u001b[0;34m(\u001b[0m\u001b[0mlam\u001b[0m \u001b[0;34m**\u001b[0m \u001b[0;34m(\u001b[0m\u001b[0malpha\u001b[0m\u001b[0;34m-\u001b[0m\u001b[0;36m1\u001b[0m\u001b[0;34m)\u001b[0m\u001b[0;34m)\u001b[0m\u001b[0;34m*\u001b[0m\u001b[0;34m(\u001b[0m\u001b[0mnp\u001b[0m\u001b[0;34m.\u001b[0m\u001b[0mexp\u001b[0m\u001b[0;34m(\u001b[0m\u001b[0;34m-\u001b[0m\u001b[0mbeta\u001b[0m\u001b[0;34m*\u001b[0m\u001b[0mlam\u001b[0m\u001b[0;34m)\u001b[0m\u001b[0;34m)\u001b[0m\u001b[0;34m)\u001b[0m\u001b[0;34m/\u001b[0m\u001b[0mscipy\u001b[0m\u001b[0;34m.\u001b[0m\u001b[0mspecial\u001b[0m\u001b[0;34m.\u001b[0m\u001b[0mgamma\u001b[0m\u001b[0;34m(\u001b[0m\u001b[0malpha\u001b[0m\u001b[0;34m)\u001b[0m\u001b[0;34m)\u001b[0m\u001b[0;34m\u001b[0m\u001b[0;34m\u001b[0m\u001b[0m\n",
      "\u001b[0;31mTypeError\u001b[0m: 'numpy.ufunc' object is not subscriptable"
     ]
    }
   ],
   "source": [
    "# A correct solution should pass these tests.\n",
    "a, b = 1, 0.2\n",
    "offset = decay_logf(1, [], a, b)\n",
    "assert np.allclose(decay_logf(0.1, [], a, b) - offset, +0.18)\n",
    "assert np.allclose(decay_logf(2, [], a, b) - offset, -0.2)\n",
    "assert np.allclose(np.round(decay_logf(0.1, [1,2,1], a, b), 3) - offset, -7.128)\n",
    "assert np.allclose(np.round(decay_logf(1, [1,2,1], a, b), 3) - offset, -4.000)\n",
    "assert np.allclose(np.round(decay_logf(2, [1,2,1], a, b), 3) - offset, -6.121)"
   ]
  },
  {
   "cell_type": "markdown",
   "metadata": {},
   "source": [
    "You can use the function below to test your numerical solution and compare with the posterior found using `rate_learn_plot` above."
   ]
  },
  {
   "cell_type": "code",
   "execution_count": null,
   "metadata": {},
   "outputs": [],
   "source": [
    "from mls import MCMC_sample\n",
    "\n",
    "def MCMC_rate_learn_plot(prior_alpha, prior_beta, num_decays, true_lam, seed=123):\n",
    "    # Generate some random decays using the true decay rate.\n",
    "    gen = np.random.RandomState(seed=seed)\n",
    "    decay_times = scipy.stats.expon.rvs(scale=1 / true_lam, size=num_decays, random_state=gen)\n",
    "    # Generate MCMC samples of the decay rate for this data with this prior.\n",
    "    samples = MCMC_sample(decay_logf, lam=[true_lam], decay_times=decay_times,\n",
    "                          prior_alpha=prior_alpha, prior_beta=prior_beta, nsamples=20000)\n",
    "    # Plot samples.\n",
    "    plt.hist(samples['lam'], range=(0, 2.5 * true_lam), bins=40, density=True)\n",
    "    plt.axvline(true_lam, c='r', ls='--')\n",
    "    plt.xlabel('Decay rate $\\lambda$')\n",
    "    plt.xlim(0, 2.5 * true_lam)"
   ]
  },
  {
   "cell_type": "code",
   "execution_count": null,
   "metadata": {},
   "outputs": [],
   "source": [
    "MCMC_rate_learn_plot(prior_alpha=1, prior_beta=0.2, num_decays=10, true_lam=5)"
   ]
  },
  {
   "cell_type": "code",
   "execution_count": null,
   "metadata": {},
   "outputs": [],
   "source": [
    "MCMC_rate_learn_plot(prior_alpha=1, prior_beta=0.2, num_decays=100, true_lam=5)"
   ]
  }
 ],
 "metadata": {
  "kernelspec": {
   "display_name": "Python 3",
   "language": "python",
   "name": "python3"
  },
  "language_info": {
   "codemirror_mode": {
    "name": "ipython",
    "version": 3
   },
   "file_extension": ".py",
   "mimetype": "text/x-python",
   "name": "python",
   "nbconvert_exporter": "python",
   "pygments_lexer": "ipython3",
   "version": "3.6.7"
  }
 },
 "nbformat": 4,
 "nbformat_minor": 2
}
